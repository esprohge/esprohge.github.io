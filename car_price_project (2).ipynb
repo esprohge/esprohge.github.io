{
 "cells": [
  {
   "cell_type": "markdown",
   "metadata": {
    "collapsed": true
   },
   "source": [
    "# Predicting Car Prices"
   ]
  },
  {
   "cell_type": "markdown",
   "metadata": {},
   "source": [
    "In this project I will use the k-nearest neighbors technique and the machine learning workflow to predict a car's market price based on its features or attributes. "
   ]
  },
  {
   "cell_type": "code",
   "execution_count": 594,
   "metadata": {},
   "outputs": [
    {
     "data": {
      "text/html": [
       "<div>\n",
       "<style scoped>\n",
       "    .dataframe tbody tr th:only-of-type {\n",
       "        vertical-align: middle;\n",
       "    }\n",
       "\n",
       "    .dataframe tbody tr th {\n",
       "        vertical-align: top;\n",
       "    }\n",
       "\n",
       "    .dataframe thead th {\n",
       "        text-align: right;\n",
       "    }\n",
       "</style>\n",
       "<table border=\"1\" class=\"dataframe\">\n",
       "  <thead>\n",
       "    <tr style=\"text-align: right;\">\n",
       "      <th></th>\n",
       "      <th>symboling</th>\n",
       "      <th>normalized_losses</th>\n",
       "      <th>make</th>\n",
       "      <th>fuel-type</th>\n",
       "      <th>aspiration</th>\n",
       "      <th>num_doors</th>\n",
       "      <th>body-style</th>\n",
       "      <th>drive-wheels</th>\n",
       "      <th>engine_location</th>\n",
       "      <th>wheel_base</th>\n",
       "      <th>length</th>\n",
       "      <th>width</th>\n",
       "      <th>height</th>\n",
       "      <th>curb_weight</th>\n",
       "      <th>engine_type</th>\n",
       "      <th>num_cylinders</th>\n",
       "      <th>engine_size</th>\n",
       "      <th>fuel_system</th>\n",
       "      <th>bore</th>\n",
       "      <th>stroke</th>\n",
       "      <th>compression_ratio</th>\n",
       "      <th>horsepower</th>\n",
       "      <th>peak_rpm</th>\n",
       "      <th>city_mpg</th>\n",
       "      <th>highway_mpg</th>\n",
       "      <th>price</th>\n",
       "    </tr>\n",
       "  </thead>\n",
       "  <tbody>\n",
       "    <tr>\n",
       "      <th>0</th>\n",
       "      <td>3</td>\n",
       "      <td>?</td>\n",
       "      <td>alfa-romero</td>\n",
       "      <td>gas</td>\n",
       "      <td>std</td>\n",
       "      <td>two</td>\n",
       "      <td>convertible</td>\n",
       "      <td>rwd</td>\n",
       "      <td>front</td>\n",
       "      <td>88.6</td>\n",
       "      <td>168.8</td>\n",
       "      <td>64.1</td>\n",
       "      <td>48.8</td>\n",
       "      <td>2548</td>\n",
       "      <td>dohc</td>\n",
       "      <td>four</td>\n",
       "      <td>130</td>\n",
       "      <td>mpfi</td>\n",
       "      <td>3.47</td>\n",
       "      <td>2.68</td>\n",
       "      <td>9.0</td>\n",
       "      <td>111</td>\n",
       "      <td>5000</td>\n",
       "      <td>21</td>\n",
       "      <td>27</td>\n",
       "      <td>13495</td>\n",
       "    </tr>\n",
       "    <tr>\n",
       "      <th>1</th>\n",
       "      <td>3</td>\n",
       "      <td>?</td>\n",
       "      <td>alfa-romero</td>\n",
       "      <td>gas</td>\n",
       "      <td>std</td>\n",
       "      <td>two</td>\n",
       "      <td>convertible</td>\n",
       "      <td>rwd</td>\n",
       "      <td>front</td>\n",
       "      <td>88.6</td>\n",
       "      <td>168.8</td>\n",
       "      <td>64.1</td>\n",
       "      <td>48.8</td>\n",
       "      <td>2548</td>\n",
       "      <td>dohc</td>\n",
       "      <td>four</td>\n",
       "      <td>130</td>\n",
       "      <td>mpfi</td>\n",
       "      <td>3.47</td>\n",
       "      <td>2.68</td>\n",
       "      <td>9.0</td>\n",
       "      <td>111</td>\n",
       "      <td>5000</td>\n",
       "      <td>21</td>\n",
       "      <td>27</td>\n",
       "      <td>16500</td>\n",
       "    </tr>\n",
       "    <tr>\n",
       "      <th>2</th>\n",
       "      <td>1</td>\n",
       "      <td>?</td>\n",
       "      <td>alfa-romero</td>\n",
       "      <td>gas</td>\n",
       "      <td>std</td>\n",
       "      <td>two</td>\n",
       "      <td>hatchback</td>\n",
       "      <td>rwd</td>\n",
       "      <td>front</td>\n",
       "      <td>94.5</td>\n",
       "      <td>171.2</td>\n",
       "      <td>65.5</td>\n",
       "      <td>52.4</td>\n",
       "      <td>2823</td>\n",
       "      <td>ohcv</td>\n",
       "      <td>six</td>\n",
       "      <td>152</td>\n",
       "      <td>mpfi</td>\n",
       "      <td>2.68</td>\n",
       "      <td>3.47</td>\n",
       "      <td>9.0</td>\n",
       "      <td>154</td>\n",
       "      <td>5000</td>\n",
       "      <td>19</td>\n",
       "      <td>26</td>\n",
       "      <td>16500</td>\n",
       "    </tr>\n",
       "    <tr>\n",
       "      <th>3</th>\n",
       "      <td>2</td>\n",
       "      <td>164</td>\n",
       "      <td>audi</td>\n",
       "      <td>gas</td>\n",
       "      <td>std</td>\n",
       "      <td>four</td>\n",
       "      <td>sedan</td>\n",
       "      <td>fwd</td>\n",
       "      <td>front</td>\n",
       "      <td>99.8</td>\n",
       "      <td>176.6</td>\n",
       "      <td>66.2</td>\n",
       "      <td>54.3</td>\n",
       "      <td>2337</td>\n",
       "      <td>ohc</td>\n",
       "      <td>four</td>\n",
       "      <td>109</td>\n",
       "      <td>mpfi</td>\n",
       "      <td>3.19</td>\n",
       "      <td>3.40</td>\n",
       "      <td>10.0</td>\n",
       "      <td>102</td>\n",
       "      <td>5500</td>\n",
       "      <td>24</td>\n",
       "      <td>30</td>\n",
       "      <td>13950</td>\n",
       "    </tr>\n",
       "    <tr>\n",
       "      <th>4</th>\n",
       "      <td>2</td>\n",
       "      <td>164</td>\n",
       "      <td>audi</td>\n",
       "      <td>gas</td>\n",
       "      <td>std</td>\n",
       "      <td>four</td>\n",
       "      <td>sedan</td>\n",
       "      <td>4wd</td>\n",
       "      <td>front</td>\n",
       "      <td>99.4</td>\n",
       "      <td>176.6</td>\n",
       "      <td>66.4</td>\n",
       "      <td>54.3</td>\n",
       "      <td>2824</td>\n",
       "      <td>ohc</td>\n",
       "      <td>five</td>\n",
       "      <td>136</td>\n",
       "      <td>mpfi</td>\n",
       "      <td>3.19</td>\n",
       "      <td>3.40</td>\n",
       "      <td>8.0</td>\n",
       "      <td>115</td>\n",
       "      <td>5500</td>\n",
       "      <td>18</td>\n",
       "      <td>22</td>\n",
       "      <td>17450</td>\n",
       "    </tr>\n",
       "  </tbody>\n",
       "</table>\n",
       "</div>"
      ],
      "text/plain": [
       "   symboling normalized_losses         make fuel-type aspiration num_doors  \\\n",
       "0          3                 ?  alfa-romero       gas        std       two   \n",
       "1          3                 ?  alfa-romero       gas        std       two   \n",
       "2          1                 ?  alfa-romero       gas        std       two   \n",
       "3          2               164         audi       gas        std      four   \n",
       "4          2               164         audi       gas        std      four   \n",
       "\n",
       "    body-style drive-wheels engine_location  wheel_base  length  width  \\\n",
       "0  convertible          rwd           front        88.6   168.8   64.1   \n",
       "1  convertible          rwd           front        88.6   168.8   64.1   \n",
       "2    hatchback          rwd           front        94.5   171.2   65.5   \n",
       "3        sedan          fwd           front        99.8   176.6   66.2   \n",
       "4        sedan          4wd           front        99.4   176.6   66.4   \n",
       "\n",
       "   height  curb_weight engine_type num_cylinders  engine_size fuel_system  \\\n",
       "0    48.8         2548        dohc          four          130        mpfi   \n",
       "1    48.8         2548        dohc          four          130        mpfi   \n",
       "2    52.4         2823        ohcv           six          152        mpfi   \n",
       "3    54.3         2337         ohc          four          109        mpfi   \n",
       "4    54.3         2824         ohc          five          136        mpfi   \n",
       "\n",
       "   bore stroke  compression_ratio horsepower peak_rpm  city_mpg  highway_mpg  \\\n",
       "0  3.47   2.68                9.0        111     5000        21           27   \n",
       "1  3.47   2.68                9.0        111     5000        21           27   \n",
       "2  2.68   3.47                9.0        154     5000        19           26   \n",
       "3  3.19   3.40               10.0        102     5500        24           30   \n",
       "4  3.19   3.40                8.0        115     5500        18           22   \n",
       "\n",
       "   price  \n",
       "0  13495  \n",
       "1  16500  \n",
       "2  16500  \n",
       "3  13950  \n",
       "4  17450  "
      ]
     },
     "execution_count": 594,
     "metadata": {},
     "output_type": "execute_result"
    }
   ],
   "source": [
    "# reading in the dataframe\n",
    "import pandas as pd\n",
    "import numpy as np\n",
    "cols = ['symboling', 'normalized_losses', 'make', 'fuel-type', 'aspiration', 'num_doors', 'body-style', 'drive-wheels', 'engine_location', 'wheel_base', 'length', 'width', 'height', 'curb_weight', 'engine_type', 'num_cylinders', 'engine_size', 'fuel_system', 'bore', 'stroke', 'compression_ratio', 'horsepower', 'peak_rpm', 'city_mpg', 'highway_mpg', 'price']\n",
    "cars = pd.read_csv(\"imports-85.data\", names=cols)\n",
    "pd.options.display.max_columns = None\n",
    "cars.head()"
   ]
  },
  {
   "cell_type": "markdown",
   "metadata": {},
   "source": [
    "Cleaning the data"
   ]
  },
  {
   "cell_type": "code",
   "execution_count": 595,
   "metadata": {},
   "outputs": [
    {
     "data": {
      "text/html": [
       "<div>\n",
       "<style scoped>\n",
       "    .dataframe tbody tr th:only-of-type {\n",
       "        vertical-align: middle;\n",
       "    }\n",
       "\n",
       "    .dataframe tbody tr th {\n",
       "        vertical-align: top;\n",
       "    }\n",
       "\n",
       "    .dataframe thead th {\n",
       "        text-align: right;\n",
       "    }\n",
       "</style>\n",
       "<table border=\"1\" class=\"dataframe\">\n",
       "  <thead>\n",
       "    <tr style=\"text-align: right;\">\n",
       "      <th></th>\n",
       "      <th>normalized_losses</th>\n",
       "      <th>wheel_base</th>\n",
       "      <th>length</th>\n",
       "      <th>width</th>\n",
       "      <th>height</th>\n",
       "      <th>curb_weight</th>\n",
       "      <th>engine_size</th>\n",
       "      <th>bore</th>\n",
       "      <th>stroke</th>\n",
       "      <th>compression_ratio</th>\n",
       "      <th>horsepower</th>\n",
       "      <th>peak_rpm</th>\n",
       "      <th>city_mpg</th>\n",
       "      <th>highway_mpg</th>\n",
       "      <th>price</th>\n",
       "    </tr>\n",
       "  </thead>\n",
       "  <tbody>\n",
       "    <tr>\n",
       "      <th>0</th>\n",
       "      <td>?</td>\n",
       "      <td>88.6</td>\n",
       "      <td>168.8</td>\n",
       "      <td>64.1</td>\n",
       "      <td>48.8</td>\n",
       "      <td>2548</td>\n",
       "      <td>130</td>\n",
       "      <td>3.47</td>\n",
       "      <td>2.68</td>\n",
       "      <td>9.0</td>\n",
       "      <td>111</td>\n",
       "      <td>5000</td>\n",
       "      <td>21</td>\n",
       "      <td>27</td>\n",
       "      <td>13495</td>\n",
       "    </tr>\n",
       "    <tr>\n",
       "      <th>1</th>\n",
       "      <td>?</td>\n",
       "      <td>88.6</td>\n",
       "      <td>168.8</td>\n",
       "      <td>64.1</td>\n",
       "      <td>48.8</td>\n",
       "      <td>2548</td>\n",
       "      <td>130</td>\n",
       "      <td>3.47</td>\n",
       "      <td>2.68</td>\n",
       "      <td>9.0</td>\n",
       "      <td>111</td>\n",
       "      <td>5000</td>\n",
       "      <td>21</td>\n",
       "      <td>27</td>\n",
       "      <td>16500</td>\n",
       "    </tr>\n",
       "    <tr>\n",
       "      <th>2</th>\n",
       "      <td>?</td>\n",
       "      <td>94.5</td>\n",
       "      <td>171.2</td>\n",
       "      <td>65.5</td>\n",
       "      <td>52.4</td>\n",
       "      <td>2823</td>\n",
       "      <td>152</td>\n",
       "      <td>2.68</td>\n",
       "      <td>3.47</td>\n",
       "      <td>9.0</td>\n",
       "      <td>154</td>\n",
       "      <td>5000</td>\n",
       "      <td>19</td>\n",
       "      <td>26</td>\n",
       "      <td>16500</td>\n",
       "    </tr>\n",
       "    <tr>\n",
       "      <th>3</th>\n",
       "      <td>164</td>\n",
       "      <td>99.8</td>\n",
       "      <td>176.6</td>\n",
       "      <td>66.2</td>\n",
       "      <td>54.3</td>\n",
       "      <td>2337</td>\n",
       "      <td>109</td>\n",
       "      <td>3.19</td>\n",
       "      <td>3.40</td>\n",
       "      <td>10.0</td>\n",
       "      <td>102</td>\n",
       "      <td>5500</td>\n",
       "      <td>24</td>\n",
       "      <td>30</td>\n",
       "      <td>13950</td>\n",
       "    </tr>\n",
       "    <tr>\n",
       "      <th>4</th>\n",
       "      <td>164</td>\n",
       "      <td>99.4</td>\n",
       "      <td>176.6</td>\n",
       "      <td>66.4</td>\n",
       "      <td>54.3</td>\n",
       "      <td>2824</td>\n",
       "      <td>136</td>\n",
       "      <td>3.19</td>\n",
       "      <td>3.40</td>\n",
       "      <td>8.0</td>\n",
       "      <td>115</td>\n",
       "      <td>5500</td>\n",
       "      <td>18</td>\n",
       "      <td>22</td>\n",
       "      <td>17450</td>\n",
       "    </tr>\n",
       "  </tbody>\n",
       "</table>\n",
       "</div>"
      ],
      "text/plain": [
       "  normalized_losses  wheel_base  length  width  height  curb_weight  \\\n",
       "0                 ?        88.6   168.8   64.1    48.8         2548   \n",
       "1                 ?        88.6   168.8   64.1    48.8         2548   \n",
       "2                 ?        94.5   171.2   65.5    52.4         2823   \n",
       "3               164        99.8   176.6   66.2    54.3         2337   \n",
       "4               164        99.4   176.6   66.4    54.3         2824   \n",
       "\n",
       "   engine_size  bore stroke  compression_ratio horsepower peak_rpm  city_mpg  \\\n",
       "0          130  3.47   2.68                9.0        111     5000        21   \n",
       "1          130  3.47   2.68                9.0        111     5000        21   \n",
       "2          152  2.68   3.47                9.0        154     5000        19   \n",
       "3          109  3.19   3.40               10.0        102     5500        24   \n",
       "4          136  3.19   3.40                8.0        115     5500        18   \n",
       "\n",
       "   highway_mpg  price  \n",
       "0           27  13495  \n",
       "1           27  16500  \n",
       "2           26  16500  \n",
       "3           30  13950  \n",
       "4           22  17450  "
      ]
     },
     "execution_count": 595,
     "metadata": {},
     "output_type": "execute_result"
    }
   ],
   "source": [
    "# select columns with continuous values\n",
    "continuous_values_cols = ['normalized_losses', 'wheel_base', 'length', 'width', 'height', 'curb_weight', 'engine_size',\n",
    "                          'bore', 'stroke', 'compression_ratio', 'horsepower', 'peak_rpm', 'city_mpg', 'highway_mpg', 'price']\n",
    "numeric_cars = cars[continuous_values_cols]\n",
    "numeric_cars.head()"
   ]
  },
  {
   "cell_type": "code",
   "execution_count": 596,
   "metadata": {
    "scrolled": false
   },
   "outputs": [],
   "source": [
    "# replace ? values with nan\n",
    "numeric_cars = numeric_cars.replace('?', np.nan)"
   ]
  },
  {
   "cell_type": "code",
   "execution_count": 597,
   "metadata": {},
   "outputs": [],
   "source": [
    "# convert coulumns that contained \"?\" from object to numeric data types\n",
    "numeric_cars = numeric_cars.astype(\"float\")"
   ]
  },
  {
   "cell_type": "code",
   "execution_count": 598,
   "metadata": {},
   "outputs": [
    {
     "data": {
      "text/plain": [
       "normalized_losses    41\n",
       "wheel_base            0\n",
       "length                0\n",
       "width                 0\n",
       "height                0\n",
       "curb_weight           0\n",
       "engine_size           0\n",
       "bore                  4\n",
       "stroke                4\n",
       "compression_ratio     0\n",
       "horsepower            2\n",
       "peak_rpm              2\n",
       "city_mpg              0\n",
       "highway_mpg           0\n",
       "price                 4\n",
       "dtype: int64"
      ]
     },
     "execution_count": 598,
     "metadata": {},
     "output_type": "execute_result"
    }
   ],
   "source": [
    "# check for missing values\n",
    "numeric_cars.isnull().sum()"
   ]
  },
  {
   "cell_type": "code",
   "execution_count": 599,
   "metadata": {},
   "outputs": [
    {
     "data": {
      "text/plain": [
       "normalized_losses    37\n",
       "wheel_base            0\n",
       "length                0\n",
       "width                 0\n",
       "height                0\n",
       "curb_weight           0\n",
       "engine_size           0\n",
       "bore                  4\n",
       "stroke                4\n",
       "compression_ratio     0\n",
       "horsepower            2\n",
       "peak_rpm              2\n",
       "city_mpg              0\n",
       "highway_mpg           0\n",
       "price                 0\n",
       "dtype: int64"
      ]
     },
     "execution_count": 599,
     "metadata": {},
     "output_type": "execute_result"
    }
   ],
   "source": [
    "# We want to predict price, but four rows do not contain values for price, so we will drop these rows\n",
    "numeric_cars = numeric_cars.dropna(subset = ['price'])\n",
    "numeric_cars.isnull().sum()"
   ]
  },
  {
   "cell_type": "code",
   "execution_count": 600,
   "metadata": {},
   "outputs": [
    {
     "data": {
      "text/plain": [
       "normalized_losses    0\n",
       "wheel_base           0\n",
       "length               0\n",
       "width                0\n",
       "height               0\n",
       "curb_weight          0\n",
       "engine_size          0\n",
       "bore                 0\n",
       "stroke               0\n",
       "compression_ratio    0\n",
       "horsepower           0\n",
       "peak_rpm             0\n",
       "city_mpg             0\n",
       "highway_mpg          0\n",
       "price                0\n",
       "dtype: int64"
      ]
     },
     "execution_count": 600,
     "metadata": {},
     "output_type": "execute_result"
    }
   ],
   "source": [
    "# use averages to replace other missing values\n",
    "numeric_cars = numeric_cars.fillna(numeric_cars.mean())\n",
    "numeric_cars.isnull().sum()\n"
   ]
  },
  {
   "cell_type": "code",
   "execution_count": 601,
   "metadata": {},
   "outputs": [
    {
     "data": {
      "text/html": [
       "<div>\n",
       "<style scoped>\n",
       "    .dataframe tbody tr th:only-of-type {\n",
       "        vertical-align: middle;\n",
       "    }\n",
       "\n",
       "    .dataframe tbody tr th {\n",
       "        vertical-align: top;\n",
       "    }\n",
       "\n",
       "    .dataframe thead th {\n",
       "        text-align: right;\n",
       "    }\n",
       "</style>\n",
       "<table border=\"1\" class=\"dataframe\">\n",
       "  <thead>\n",
       "    <tr style=\"text-align: right;\">\n",
       "      <th></th>\n",
       "      <th>normalized_losses</th>\n",
       "      <th>wheel_base</th>\n",
       "      <th>length</th>\n",
       "      <th>width</th>\n",
       "      <th>height</th>\n",
       "      <th>curb_weight</th>\n",
       "      <th>engine_size</th>\n",
       "      <th>bore</th>\n",
       "      <th>stroke</th>\n",
       "      <th>compression_ratio</th>\n",
       "      <th>horsepower</th>\n",
       "      <th>peak_rpm</th>\n",
       "      <th>city_mpg</th>\n",
       "      <th>highway_mpg</th>\n",
       "      <th>price</th>\n",
       "    </tr>\n",
       "  </thead>\n",
       "  <tbody>\n",
       "    <tr>\n",
       "      <th>0</th>\n",
       "      <td>0.298429</td>\n",
       "      <td>0.058309</td>\n",
       "      <td>0.413433</td>\n",
       "      <td>0.324786</td>\n",
       "      <td>0.083333</td>\n",
       "      <td>0.411171</td>\n",
       "      <td>0.260377</td>\n",
       "      <td>0.664286</td>\n",
       "      <td>0.290476</td>\n",
       "      <td>0.1250</td>\n",
       "      <td>0.294393</td>\n",
       "      <td>0.346939</td>\n",
       "      <td>0.222222</td>\n",
       "      <td>0.289474</td>\n",
       "      <td>13495.0</td>\n",
       "    </tr>\n",
       "    <tr>\n",
       "      <th>1</th>\n",
       "      <td>0.298429</td>\n",
       "      <td>0.058309</td>\n",
       "      <td>0.413433</td>\n",
       "      <td>0.324786</td>\n",
       "      <td>0.083333</td>\n",
       "      <td>0.411171</td>\n",
       "      <td>0.260377</td>\n",
       "      <td>0.664286</td>\n",
       "      <td>0.290476</td>\n",
       "      <td>0.1250</td>\n",
       "      <td>0.294393</td>\n",
       "      <td>0.346939</td>\n",
       "      <td>0.222222</td>\n",
       "      <td>0.289474</td>\n",
       "      <td>16500.0</td>\n",
       "    </tr>\n",
       "    <tr>\n",
       "      <th>2</th>\n",
       "      <td>0.298429</td>\n",
       "      <td>0.230321</td>\n",
       "      <td>0.449254</td>\n",
       "      <td>0.444444</td>\n",
       "      <td>0.383333</td>\n",
       "      <td>0.517843</td>\n",
       "      <td>0.343396</td>\n",
       "      <td>0.100000</td>\n",
       "      <td>0.666667</td>\n",
       "      <td>0.1250</td>\n",
       "      <td>0.495327</td>\n",
       "      <td>0.346939</td>\n",
       "      <td>0.166667</td>\n",
       "      <td>0.263158</td>\n",
       "      <td>16500.0</td>\n",
       "    </tr>\n",
       "    <tr>\n",
       "      <th>3</th>\n",
       "      <td>0.518325</td>\n",
       "      <td>0.384840</td>\n",
       "      <td>0.529851</td>\n",
       "      <td>0.504274</td>\n",
       "      <td>0.541667</td>\n",
       "      <td>0.329325</td>\n",
       "      <td>0.181132</td>\n",
       "      <td>0.464286</td>\n",
       "      <td>0.633333</td>\n",
       "      <td>0.1875</td>\n",
       "      <td>0.252336</td>\n",
       "      <td>0.551020</td>\n",
       "      <td>0.305556</td>\n",
       "      <td>0.368421</td>\n",
       "      <td>13950.0</td>\n",
       "    </tr>\n",
       "    <tr>\n",
       "      <th>4</th>\n",
       "      <td>0.518325</td>\n",
       "      <td>0.373178</td>\n",
       "      <td>0.529851</td>\n",
       "      <td>0.521368</td>\n",
       "      <td>0.541667</td>\n",
       "      <td>0.518231</td>\n",
       "      <td>0.283019</td>\n",
       "      <td>0.464286</td>\n",
       "      <td>0.633333</td>\n",
       "      <td>0.0625</td>\n",
       "      <td>0.313084</td>\n",
       "      <td>0.551020</td>\n",
       "      <td>0.138889</td>\n",
       "      <td>0.157895</td>\n",
       "      <td>17450.0</td>\n",
       "    </tr>\n",
       "  </tbody>\n",
       "</table>\n",
       "</div>"
      ],
      "text/plain": [
       "   normalized_losses  wheel_base    length     width    height  curb_weight  \\\n",
       "0           0.298429    0.058309  0.413433  0.324786  0.083333     0.411171   \n",
       "1           0.298429    0.058309  0.413433  0.324786  0.083333     0.411171   \n",
       "2           0.298429    0.230321  0.449254  0.444444  0.383333     0.517843   \n",
       "3           0.518325    0.384840  0.529851  0.504274  0.541667     0.329325   \n",
       "4           0.518325    0.373178  0.529851  0.521368  0.541667     0.518231   \n",
       "\n",
       "   engine_size      bore    stroke  compression_ratio  horsepower  peak_rpm  \\\n",
       "0     0.260377  0.664286  0.290476             0.1250    0.294393  0.346939   \n",
       "1     0.260377  0.664286  0.290476             0.1250    0.294393  0.346939   \n",
       "2     0.343396  0.100000  0.666667             0.1250    0.495327  0.346939   \n",
       "3     0.181132  0.464286  0.633333             0.1875    0.252336  0.551020   \n",
       "4     0.283019  0.464286  0.633333             0.0625    0.313084  0.551020   \n",
       "\n",
       "   city_mpg  highway_mpg    price  \n",
       "0  0.222222     0.289474  13495.0  \n",
       "1  0.222222     0.289474  16500.0  \n",
       "2  0.166667     0.263158  16500.0  \n",
       "3  0.305556     0.368421  13950.0  \n",
       "4  0.138889     0.157895  17450.0  "
      ]
     },
     "execution_count": 601,
     "metadata": {},
     "output_type": "execute_result"
    }
   ],
   "source": [
    "# normalize the columns so that all values range from 0 to 1, except for the price (target) column\n",
    "price_col = numeric_cars['price']\n",
    "numeric_cars=(numeric_cars-numeric_cars.min())/(numeric_cars.max()-numeric_cars.min())\n",
    "numeric_cars['price'] = price_col\n",
    "numeric_cars.head()"
   ]
  },
  {
   "cell_type": "markdown",
   "metadata": {},
   "source": [
    "# Univariate Model"
   ]
  },
  {
   "cell_type": "code",
   "execution_count": 602,
   "metadata": {},
   "outputs": [
    {
     "data": {
      "text/plain": [
       "engine_size          3165.411107\n",
       "curb_weight          3542.232504\n",
       "city_mpg             4004.261065\n",
       "width                4289.527858\n",
       "highway_mpg          4425.000532\n",
       "wheel_base           4692.348776\n",
       "horsepower           5037.249086\n",
       "length               5776.389428\n",
       "compression_ratio    5823.942730\n",
       "peak_rpm             7039.661065\n",
       "height               7114.466472\n",
       "normalized_losses    7312.839939\n",
       "stroke               8509.786245\n",
       "bore                 8570.096664\n",
       "dtype: float64"
      ]
     },
     "execution_count": 602,
     "metadata": {},
     "output_type": "execute_result"
    }
   ],
   "source": [
    "from sklearn.neighbors import KNeighborsRegressor\n",
    "from sklearn.metrics import mean_squared_error\n",
    "\n",
    "def knn_train_test(train_col, target_col, df):\n",
    "    \n",
    "    # Randomize order of rows in data frame\n",
    "    np.random.seed(1)\n",
    "    shuffled_index = np.random.permutation(df.index)\n",
    "    random_df = df.reindex(shuffled_index)\n",
    "\n",
    "    # Create 80/20 split for train/test sets\n",
    "    last_train_row = int(len(random_df) * .8)\n",
    "    # Select the first 80% and set as training set\n",
    "    # Select the second 20% and set as test set\n",
    "    train_df = random_df.iloc[0:last_train_row]\n",
    "    test_df = random_df.iloc[last_train_row:]\n",
    "    \n",
    "    #instantiate the knn regressor class\n",
    "    knn = KNeighborsRegressor()\n",
    "    \n",
    "    # Fit a KNN model using default k value\n",
    "    knn.fit(train_df[[train_col]], train_df[target_col])\n",
    "    \n",
    "    # Make predictions using model\n",
    "    predictions = knn.predict(test_df[[train_col]])\n",
    "\n",
    "    # Calculate and return RMSE\n",
    "    mse = mean_squared_error(test_df[target_col], predictions)\n",
    "    rmse = np.sqrt(mse)\n",
    "    return rmse\n",
    "\n",
    "rmse_results = {}\n",
    "train_cols = numeric_cars.columns.drop('price')\n",
    "\n",
    "# train a model for each column (except 'price'), return rmse value,\n",
    "# and add to rmse_results dictionary\n",
    "\n",
    "for col in train_cols:\n",
    "    rmse_value = knn_train_test(col, 'price', numeric_cars)\n",
    "    rmse_results[col] = rmse_value\n",
    "    \n",
    "# create a Series object from the dictionary to easily \n",
    "# view results and sort etc\n",
    "rmse_results_series = pd.Series(rmse_results)\n",
    "rmse_results_series.sort_values()\n"
   ]
  },
  {
   "cell_type": "code",
   "execution_count": 603,
   "metadata": {},
   "outputs": [
    {
     "data": {
      "text/plain": [
       "<matplotlib.text.Text at 0x7faf9f4f2e48>"
      ]
     },
     "execution_count": 603,
     "metadata": {},
     "output_type": "execute_result"
    },
    {
     "data": {
      "image/png": "[encoded data removed]",
      "text/plain": [
       "<matplotlib.figure.Figure at 0x7faf9f4f15c0>"
      ]
     },
     "metadata": {},
     "output_type": "display_data"
    }
   ],
   "source": [
    "# visualize the results\n",
    "import matplotlib.pyplot as plt\n",
    "%matplotlib inline\n",
    "\n",
    "rmse_results_series.plot(kind=\"bar\")\n",
    "plt.xticks(rotation=90, size=15)\n",
    "plt.ylim(3000, 9000)\n",
    "plt.ylabel(\"RMSE\", size=15)\n",
    "plt.xlabel(\"Features\", size=15)\n",
    "plt.title(\"RMSE for each car feature\", size=20)"
   ]
  },
  {
   "cell_type": "markdown",
   "metadata": {},
   "source": [
    "# Update model to accept a parameter for k value"
   ]
  },
  {
   "cell_type": "code",
   "execution_count": 604,
   "metadata": {},
   "outputs": [
    {
     "data": {
      "text/plain": [
       "{'bore': {1: 11325.623045371662,\n",
       "  3: 11020.816129115008,\n",
       "  5: 8570.096663996499,\n",
       "  7: 8365.797896227094,\n",
       "  9: 8775.94193557989},\n",
       " 'city_mpg': {1: 4974.416639409995,\n",
       "  3: 3928.700182242369,\n",
       "  5: 4004.261065171548,\n",
       "  7: 4081.310648036243,\n",
       "  9: 4339.190601157172},\n",
       " 'compression_ratio': {1: 7799.828345515829,\n",
       "  3: 6163.730431482084,\n",
       "  5: 5823.942730470903,\n",
       "  7: 6157.7248722066115,\n",
       "  9: 6407.497099828602},\n",
       " 'curb_weight': {1: 4185.38209637817,\n",
       "  3: 3865.4854755980678,\n",
       "  5: 3542.232503971912,\n",
       "  7: 3648.8946863476,\n",
       "  9: 3902.9189076894745},\n",
       " 'engine_size': {1: 3408.2198056907127,\n",
       "  3: 2922.210479074161,\n",
       "  5: 3165.4111068109232,\n",
       "  7: 3075.289045001077,\n",
       "  9: 3146.558145913208},\n",
       " 'height': {1: 6148.6606790699925,\n",
       "  3: 7574.277044037761,\n",
       "  5: 7114.46647188053,\n",
       "  7: 7059.4162099980385,\n",
       "  9: 7112.208123377993},\n",
       " 'highway_mpg': {1: 6099.731359538433,\n",
       "  3: 4905.003872215584,\n",
       "  5: 4425.000531789963,\n",
       "  7: 4250.7808647564025,\n",
       "  9: 4668.313503523361},\n",
       " 'horsepower': {1: 3403.51650646153,\n",
       "  3: 4619.276254917126,\n",
       "  5: 5037.249086458241,\n",
       "  7: 5031.196660115028,\n",
       "  9: 5062.637279256621},\n",
       " 'length': {1: 5859.903974073794,\n",
       "  3: 5888.568349894745,\n",
       "  5: 5776.389428041555,\n",
       "  7: 5194.750417819372,\n",
       "  9: 4619.328098435929},\n",
       " 'normalized_losses': {1: 6752.715222638133,\n",
       "  3: 7593.650809583371,\n",
       "  5: 7312.839938881974,\n",
       "  7: 7178.556599183808,\n",
       "  9: 7447.550735580691},\n",
       " 'peak_rpm': {1: 8278.654307696479,\n",
       "  3: 8507.045567803369,\n",
       "  5: 7039.66106466539,\n",
       "  7: 7384.673196931962,\n",
       "  9: 7648.80689085942},\n",
       " 'stroke': {1: 9909.988887788802,\n",
       "  3: 6976.582326565751,\n",
       "  5: 8509.786245459673,\n",
       "  7: 7506.013090561423,\n",
       "  9: 7286.192069843549},\n",
       " 'wheel_base': {1: 2952.700719101983,\n",
       "  3: 3663.3229010703894,\n",
       "  5: 4692.348776153917,\n",
       "  7: 4842.606524612033,\n",
       "  9: 4967.944752918635},\n",
       " 'width': {1: 3016.8642054534607,\n",
       "  3: 4497.613775937945,\n",
       "  5: 4289.527857923577,\n",
       "  7: 4191.397564186104,\n",
       "  9: 4013.061555643361}}"
      ]
     },
     "execution_count": 604,
     "metadata": {},
     "output_type": "execute_result"
    }
   ],
   "source": [
    "def knn_train_test(train_col, target_col, df):\n",
    "    \n",
    "    # Randomize order of rows in data frame\n",
    "    np.random.seed(1)\n",
    "    shuffled_index = np.random.permutation(df.index)\n",
    "    random_df = df.reindex(shuffled_index)\n",
    "\n",
    "    # Create 80/20 split for train/test sets\n",
    "    last_train_row = int(len(random_df) * .8)\n",
    "    # Select the first 80% and set as training set\n",
    "    # Select the second 20% and set as test set\n",
    "    train_df = random_df.iloc[0:last_train_row]\n",
    "    test_df = random_df.iloc[last_train_row:]\n",
    "    \n",
    "    # add parameters for k value\n",
    "    k_values = [1, 3, 5, 7, 9]\n",
    "    k_rmses = {}\n",
    "    \n",
    "    # loop over k parameters\n",
    "    for k in k_values:\n",
    "        # instantiate the knn regressor class\n",
    "        knn = KNeighborsRegressor(n_neighbors=k)\n",
    "        # Fit a KNN model using k nearest neighbors\n",
    "        knn.fit(train_df[[train_col]], train_df[target_col])\n",
    "        # Make predictions using model\n",
    "        predictions = knn.predict(test_df[[train_col]])\n",
    "        # Calculate and return RMSE\n",
    "        mse = mean_squared_error(test_df[target_col], predictions)\n",
    "        rmse = np.sqrt(mse)\n",
    "        k_rmses[k] = rmse\n",
    "    return k_rmses\n",
    "\n",
    "k_rmse_results = {}\n",
    "train_cols = numeric_cars.columns.drop('price')\n",
    "\n",
    "# train a model for each column (except 'price'), return rmse value,\n",
    "# and add to rmse_results dictionary\n",
    "\n",
    "for col in train_cols:\n",
    "    rmse_value = knn_train_test(col, 'price', numeric_cars)\n",
    "    k_rmse_results[col] = rmse_value\n",
    "    \n",
    "k_rmse_results\n",
    "    \n",
    "\n"
   ]
  },
  {
   "cell_type": "code",
   "execution_count": 605,
   "metadata": {},
   "outputs": [
    {
     "name": "stderr",
     "output_type": "stream",
     "text": [
      "/dataquest/system/env/python3/lib/python3.4/site-packages/matplotlib/axes/_axes.py:519: UserWarning:\n",
      "\n",
      "No labelled objects found. Use label='...' kwarg on individual plots.\n",
      "\n"
     ]
    },
    {
     "data": {
      "image/png": "[encoded data removed]",
      "text/plain": [
       "<matplotlib.figure.Figure at 0x7faf9f4d35f8>"
      ]
     },
     "metadata": {},
     "output_type": "display_data"
    }
   ],
   "source": [
    "# visualize the results\n",
    "import matplotlib.pyplot as plt\n",
    "%matplotlib inline\n",
    "\n",
    "for k,v in k_rmse_results.items():\n",
    "    x, y = zip(*sorted(v.items()))\n",
    "    \n",
    "    plt.plot(x,y)\n",
    "    plt.xlabel(\"k value\")\n",
    "    plt.ylabel(\"RMSE\")\n",
    "    plt.legend()\n"
   ]
  },
  {
   "cell_type": "markdown",
   "metadata": {},
   "source": [
    "# Multivariate Model"
   ]
  },
  {
   "cell_type": "code",
   "execution_count": 606,
   "metadata": {},
   "outputs": [
    {
     "name": "stdout",
     "output_type": "stream",
     "text": [
      "RMSE for two best features: 2929.4280152591846\n",
      "RMSE for three best features: 2726.022317429179\n",
      "RMSE for four best features: 2673.5462017109276\n",
      "RMSE for five best features: 2507.1095221584483\n",
      "RMSE for all features: 2776.86026524255\n"
     ]
    }
   ],
   "source": [
    "def knn_multivar_test(features, target_col, df):\n",
    "\n",
    "    # Randomize order of rows in data frame\n",
    "    np.random.seed(1)\n",
    "    shuffled_index = np.random.permutation(numeric_cars.index)\n",
    "    random_df = numeric_cars.reindex(shuffled_index)\n",
    "\n",
    "    # Create 80/20 split for train/test sets\n",
    "    last_train_row = int(len(random_df) * .8)\n",
    "    # Select the first 80% and set as training set\n",
    "    # Select the second 20% and set as test set\n",
    "    train_df = random_df.iloc[0:last_train_row]\n",
    "    test_df = random_df.iloc[last_train_row:]\n",
    "\n",
    "    # instantiate the knn regressor class\n",
    "    knn = KNeighborsRegressor()\n",
    "\n",
    "    # Fit a KNN model using default k value\n",
    "    knn.fit(train_df[features], train_df[target_col])\n",
    "\n",
    "    # Make predictions using model\n",
    "    prediction = knn.predict(test_df[features])\n",
    "\n",
    "    # Calculate and return RMSE\n",
    "    mse = mean_squared_error(test_df[target_col], prediction)\n",
    "    rmse = np.sqrt(mse)\n",
    "    return rmse\n",
    "    \n",
    "\n",
    "# two-five best features, and all features\n",
    "two_features = ['engine_size', 'horsepower']\n",
    "three_features = ['engine_size', 'horsepower', 'curb_weight']\n",
    "four_features = ['engine_size', 'horsepower', 'curb_weight', 'highway_mpg']\n",
    "five_features = ['engine_size', 'horsepower', 'curb_weight', 'highway_mpg', 'width']\n",
    "all_features = ['bore', 'city_mpg', 'compression_ratio', 'curb_weight',\n",
    "                'engine_size', 'height', 'highway_mpg', 'horsepower', 'length', 'normalized_losses',\n",
    "                'peak_rpm', 'stroke', 'wheel_base', 'width']\n",
    "\n",
    "# use function to calculate rmse on 2-5 features as well as all features\n",
    "rmse_two_features = knn_multivar_test(two_features, 'price', numeric_cars)\n",
    "rmse_three_features = knn_multivar_test(three_features, 'price', numeric_cars)\n",
    "rmse_four_features = knn_multivar_test(four_features, 'price', numeric_cars)\n",
    "rmse_five_features = knn_multivar_test(five_features, 'price', numeric_cars)\n",
    "all_features_rmse = knn_multivar_test(all_features, 'price', numeric_cars)\n",
    "\n",
    "print(\"RMSE for two best features: {}\".format(rmse_two_features))\n",
    "print(\"RMSE for three best features: {}\".format(rmse_three_features))\n",
    "print(\"RMSE for four best features: {}\".format(rmse_four_features))\n",
    "print(\"RMSE for five best features: {}\".format(rmse_five_features))\n",
    "print(\"RMSE for all features: {}\".format(all_features_rmse))\n"
   ]
  },
  {
   "cell_type": "code",
   "execution_count": 607,
   "metadata": {
    "scrolled": true
   },
   "outputs": [
    {
     "data": {
      "text/plain": [
       "(2000, 3000)"
      ]
     },
     "execution_count": 607,
     "metadata": {},
     "output_type": "execute_result"
    },
    {
     "data": {
      "image/png": "[encoded data removed]",
      "text/plain": [
       "<matplotlib.figure.Figure at 0x7faf9f489b00>"
      ]
     },
     "metadata": {},
     "output_type": "display_data"
    }
   ],
   "source": [
    "# visualize feature model rmses with bar chart\n",
    "labels = [\"two_features\", \"three_features\", \"four_features\",\n",
    "                \"five_features\", \"all_features\"]\n",
    "rmse_models = [rmse_two_features, rmse_three_features, rmse_four_features,\n",
    "              rmse_five_features, all_features_rmse]\n",
    "\n",
    "\n",
    "plt.figure(figsize=(12,6))\n",
    "\n",
    "plt.bar(range(5), rmse_models, align='center')\n",
    "plt.ylabel(\"RMSE\", size=15)\n",
    "plt.xlabel(\"Feature models\", size=15)\n",
    "plt.title(\"RMSE for each feature model\", size=20)\n",
    "plt.xticks(range(5), labels, rotation=90, size=15)\n",
    "plt.ylim(2000, 3000)\n",
    "\n",
    "\n",
    "\n"
   ]
  },
  {
   "cell_type": "markdown",
   "metadata": {},
   "source": [
    "The five feature model (engine size, horsepower, curb weight, highway mpg, width) has the lowest error (rmse) thus far. Now I will use hyperparameter optimization (finding the best number of neighbors) to see if I can lower the error value even further. "
   ]
  },
  {
   "cell_type": "markdown",
   "metadata": {},
   "source": [
    "# Hyperparameter Optimization\n",
    "I will vary the hyperparameter value from 1-25 for each of the top 3 models in the prior step, and plot the resulting RMSE values."
   ]
  },
  {
   "cell_type": "code",
   "execution_count": 608,
   "metadata": {},
   "outputs": [
    {
     "name": "stdout",
     "output_type": "stream",
     "text": [
      "{1: 2139.4365852810465, 2: 2840.3062742787647, 3: 2765.7393195563163, 4: 2748.67567918248, 5: 2725.029468088597, 6: 2686.5337357923004, 7: 2764.0042907461843, 8: 2861.2537292594693, 9: 3124.8856331737225, 10: 3250.286734218097, 11: 3353.036762930252, 12: 3388.227950114583, 13: 3345.5266283693795, 14: 3506.1630545522294, 15: 3604.814117673896, 16: 3648.6367557878348, 17: 3778.5998807525957, 18: 3761.320994372058, 19: 3750.5675506375223, 20: 3779.5765656095496, 21: 3861.980882058926, 22: 3940.130545186577, 23: 4023.4987699789053, 24: 4085.0841278119124, 25: 4100.3814908300255}\n",
      "{1: 1923.9974075840757, 2: 2288.0164124539265, 3: 2399.270712931231, 4: 2487.9200368492748, 5: 2671.410735374321, 6: 2743.6822533937993, 7: 2745.751980020947, 8: 2909.7852506723734, 9: 3102.6610755566207, 10: 3228.027004224097, 11: 3403.198607833816, 12: 3562.285053159857, 13: 3565.3313026609685, 14: 3574.4232785709983, 15: 3643.174241083496, 16: 3693.822661745078, 17: 3836.750263452122, 18: 3813.729859011886, 19: 3834.4838686781254, 20: 3871.813444541107, 21: 3983.399669287615, 22: 4103.478741967488, 23: 4195.247369908099, 24: 4229.080596109422, 25: 4296.816190845519}\n",
      "{1: 2081.948723625267, 2: 2585.927120622453, 3: 2507.9558833315086, 4: 2567.04290318029, 5: 2504.231335257948, 6: 2530.3362900047305, 7: 2472.3441823697526, 8: 2614.602342916675, 9: 2684.97083192026, 10: 2765.0804988061473, 11: 2868.049611052321, 12: 2946.114870919976, 13: 3059.889602913414, 14: 3206.6594903199707, 15: 3324.224185383463, 16: 3450.3448256889537, 17: 3593.46349978644, 18: 3683.8988162144183, 19: 3809.0204345517827, 20: 3938.335350034233, 21: 4043.957952190692, 22: 4088.7412853010615, 23: 4120.382509911736, 24: 4197.6505130933465, 25: 4236.456821172445}\n",
      "(1, 2139.4365852810465)\n",
      "(1, 1923.9974075840757)\n",
      "(1, 2081.948723625267)\n"
     ]
    }
   ],
   "source": [
    "def knn_multivar_hyperparam_test(features, target_col, df, k_num):\n",
    "\n",
    "    # Randomize order of rows in data frame\n",
    "    np.random.seed(1)\n",
    "    shuffled_index = np.random.permutation(numeric_cars.index)\n",
    "    random_df = numeric_cars.reindex(shuffled_index)\n",
    "\n",
    "    # Create 80/20 split for train/test sets\n",
    "    last_train_row = int(len(random_df) * .8)\n",
    "    # Select the first 80% and set as training set\n",
    "    # Select the second 20% and set as test set\n",
    "    train_df = random_df.iloc[0:last_train_row]\n",
    "    test_df = random_df.iloc[last_train_row:]\n",
    "    \n",
    "    # instantiate the knn regressor class\n",
    "    knn = KNeighborsRegressor(n_neighbors=k_num, algorithm=\"brute\")\n",
    "    # Fit a KNN model \n",
    "    knn.fit(train_df[features], train_df[target_col])\n",
    "    # Make prediction using model\n",
    "    prediction = knn.predict(test_df[features])\n",
    "    # Calculate mse and rmse\n",
    "    mse = mean_squared_error(test_df[target_col], prediction)\n",
    "    rmse = np.sqrt(mse)\n",
    "    return rmse\n",
    "    \n",
    "k_nums = [k for k in range(1,26)]    \n",
    "\n",
    "top_three_features = {} \n",
    "top_four_features = {}\n",
    "top_five_features = {}\n",
    "\n",
    "# Apply function to top three models\n",
    "for k in k_nums:\n",
    "    result = knn_multivar_hyperparam_test(three_features, 'price', numeric_cars, k)\n",
    "    top_three_features[k] = result\n",
    "for k in k_nums:    \n",
    "    result = knn_multivar_hyperparam_test(four_features, 'price', numeric_cars, k)\n",
    "    top_four_features[k] = result\n",
    "for k in k_nums:    \n",
    "    result = knn_multivar_hyperparam_test(five_features, 'price', numeric_cars, k)\n",
    "    top_five_features[k] = result\n",
    "\n",
    "print(top_three_features) \n",
    "print(top_four_features)\n",
    "print(top_five_features)\n",
    "\n",
    "top_three_features.items()\n",
    "print(min(top_three_features.items(), key=lambda x: x[1]))\n",
    "top_four_features.items()\n",
    "print(min(top_four_features.items(), key=lambda x: x[1]))\n",
    "top_five_features.items()\n",
    "print(min(top_five_features.items(), key=lambda x: x[1]))"
   ]
  },
  {
   "cell_type": "code",
   "execution_count": 609,
   "metadata": {},
   "outputs": [
    {
     "data": {
      "text/plain": [
       "<matplotlib.text.Text at 0x7faf9f3292e8>"
      ]
     },
     "execution_count": 609,
     "metadata": {},
     "output_type": "execute_result"
    },
    {
     "data": {
      "image/png": "[encoded data removed]",
      "text/plain": [
       "<matplotlib.figure.Figure at 0x7faf9f39d128>"
      ]
     },
     "metadata": {},
     "output_type": "display_data"
    }
   ],
   "source": [
    "# visualize the results\n",
    "plt.figure(figsize=(12,6))\n",
    "\n",
    "plt.plot(list(top_three_features.keys()), list(top_three_features.values()), label = \"Three Features\")\n",
    "plt.plot(list(top_four_features.keys()), list(top_four_features.values()), label = \"Four Features\")\n",
    "plt.plot(list(top_five_features.keys()), list(top_five_features.values()), label = \"Five Features\")\n",
    "plt.legend(loc='best')\n",
    "plt.xticks(range(1,26))\n",
    "plt.xlim(0.5,25.5)\n",
    "plt.ylabel(\"RMSE\", size=15)\n",
    "plt.xlabel(\"Number of k neighbors\", size=15)\n",
    "plt.title(\"Hyperparameter Optimization RMSEs\", size=20)\n",
    "\n"
   ]
  },
  {
   "cell_type": "markdown",
   "metadata": {},
   "source": [
    "As the above chart displays, the top three models perform best--have the lowest rmses--with k=1 hyperparameter. In other words, they work best with only 1 nearest neighbor. The best model includes four features(attributes): engine size, horsepower, curb weight, and highway mpg. Moreover, using hyperparameter optimization resulted in the four-feature model rather than the five-feature model having the lowest rmse, and also lowered the rmse substantially, from about 2500 to 1924. "
   ]
  },
  {
   "cell_type": "markdown",
   "metadata": {
    "collapsed": true
   },
   "source": [
    "The final step of the project involves testing the model's accuracy for prediction using untrained data in a more robust way than simple train/test validation. This allows me to better test how accurately the model will perform in practice, with independent (untrained) data. For this I will use k-fold cross validation. While train/test and holdout validation utilize only half the data for train/test purposes and therefore are biased towards those subsets of the data, k fold cross validation rotates through different subsets of the data to avoid this bias. This results in a more robust validation measure. The basic process for k fold cross validation is as follows:\n",
    "\n",
    "1. split the full dataset into k equal length subsets\n",
    "2. select k-1 subsets as the training set and\n",
    "    select the remaining subset as the test set\n",
    "3. train the model on the training set.\n",
    "4. use the trained model to predict labels on the test fold.\n",
    "5. calculate the test fold's error metric.\n",
    "6. repeat all of the above steps k-1 times, until each subset has been used      as the test set for an iteration.\n",
    "7. calculate the mean of the k error values."
   ]
  },
  {
   "cell_type": "markdown",
   "metadata": {},
   "source": [
    "# K Fold Cross Validation"
   ]
  },
  {
   "cell_type": "code",
   "execution_count": 610,
   "metadata": {},
   "outputs": [
    {
     "name": "stdout",
     "output_type": "stream",
     "text": [
      "{2: 3030.5248278672093, 3: 2522.8223645340126, 4: 2597.284351950644, 5: 2439.254972692088, 6: 2512.3519840635126, 7: 2440.7969486943794, 8: 2438.837870669518, 9: 2252.2596624454627, 10: 2332.745974977613, 11: 2250.416012914838, 12: 2290.081062122747, 13: 2294.9872252132136, 14: 2287.8692148630703, 15: 2244.4742421548967, 16: 2218.255529600091, 17: 2261.0722062792424, 18: 2249.422433975352, 19: 2287.0778821727713, 20: 2262.1110618267267, 21: 2150.4698784382817, 22: 2149.637066676481, 23: 2206.6511987111626, 24: 2200.8356914185824, 25: 2206.2747003713703}\n",
      "{2: 82.71378066625266, 3: 205.63384256006634, 4: 440.9793343770381, 5: 354.0876927719042, 6: 341.0933081033041, 7: 452.98678483567835, 8: 613.9998272767381, 9: 731.7555842324936, 10: 615.8885994561275, 11: 775.1381990425928, 12: 811.9555387590236, 13: 842.8929256940514, 14: 811.1927234593533, 15: 892.3046064744012, 16: 926.6382207622704, 17: 961.3739890371608, 18: 984.487108461587, 19: 782.7313141547418, 20: 871.6441704447133, 21: 1011.0526948013611, 22: 1046.5211314351145, 23: 1003.6582496816959, 24: 1011.1292459278798, 25: 990.9800891323574}\n",
      "(22, 2149.637066676481)\n",
      "(2, 82.71378066625266)\n"
     ]
    }
   ],
   "source": [
    "from sklearn.model_selection import cross_val_score, KFold\n",
    "# create k fold cross validation function using 1 as optimal hyperparamter\n",
    "# function will model 2-25 folds\n",
    "def knn_kfolds_test(train_col, target_col, df, folds):\n",
    "    for fold in num_folds:\n",
    "        kf = KFold(folds, shuffle=True, random_state=1)\n",
    "        model = KNeighborsRegressor(1)\n",
    "        mses = cross_val_score(model, df[train_col], df[target_col],\n",
    "                               scoring=\"neg_mean_squared_error\", cv=kf)\n",
    "        rmses = np.sqrt(np.absolute(mses))\n",
    "        avg_rmse = np.mean(rmses)\n",
    "        std_rmse = np.std(rmses)\n",
    "        return rmses, avg_rmse, std_rmse\n",
    "\n",
    "k_folds = list(range(2,26))\n",
    "k_folds_mean = {}\n",
    "k_folds_std = {}\n",
    "\n",
    "\n",
    "# Apply function to k number of folds\n",
    "\n",
    "for k in k_folds:\n",
    "    result = knn_kfolds_test(four_features, 'price', numeric_cars, k)\n",
    "    \n",
    "    k_folds_mean[k] = result[1]\n",
    "    k_folds_std[k] = result[2]\n",
    "    \n",
    "\n",
    "print(k_folds_mean)\n",
    "print(k_folds_std)\n",
    "\n",
    "# find lowest mean and std\n",
    "k_folds_mean.items()\n",
    "print(min(k_folds_mean.items(), key=lambda x: x[1]))\n",
    "k_folds_std.items()\n",
    "print(min(k_folds_std.items(), key=lambda x: x[1]))\n",
    "\n",
    "\n",
    "\n",
    "\n",
    "\n",
    "\n",
    "    \n"
   ]
  },
  {
   "cell_type": "code",
   "execution_count": 611,
   "metadata": {},
   "outputs": [
    {
     "data": {
      "text/plain": [
       "<matplotlib.text.Text at 0x7faf9f2bf358>"
      ]
     },
     "execution_count": 611,
     "metadata": {},
     "output_type": "execute_result"
    },
    {
     "data": {
      "image/png": "[encoded data removed]",
      "text/plain": [
       "<matplotlib.figure.Figure at 0x7faf9f2ed358>"
      ]
     },
     "metadata": {},
     "output_type": "display_data"
    }
   ],
   "source": [
    "# visualize the results\n",
    "plt.figure(figsize=(12,6))\n",
    "\n",
    "plt.plot(list(k_folds_mean.keys()), list(k_folds_mean.values()), label = \"Mean\")\n",
    "\n",
    "plt.plot(list(k_folds_std.keys()), list(k_folds_std.values()), label = \"STD\", color='red')\n",
    "plt.legend(loc='best')\n",
    "plt.xticks(range(1,26))\n",
    "plt.xlim(0.5,25.5)\n",
    "plt.ylabel(\"RMSE\", size=15)\n",
    "plt.xlabel(\"Number of folds\", size=15)\n",
    "plt.title(\"K fold cross validation\", size=20)"
   ]
  },
  {
   "cell_type": "markdown",
   "metadata": {},
   "source": [
    "A model contains two types of error: bias, which indicates how accurately the model predicts the target; and variance, which describes the variability of the model's predicted values. There is a trade-off between the two types of error, so we must choose a point at which there is a reasonable balance between the two. The above chart indicates that 9 folds gives a good balance between a low mean rmse and low standard deviation. "
   ]
  },
  {
   "cell_type": "markdown",
   "metadata": {},
   "source": [
    "# Conclusion\n",
    "This project used the k nearest neighbors technique and a machine learning workflow to predict what features (attributes) best contribute to a car's price. To begin there were 25 predictive features in the dataset; after removing those that were not continues variables, I was left with 14 features. I found that a model of four features--engine size, horsepower, curb weight, and highway mpg--best predicted a car's price. This model was able to predict a price within $ 1924. I then used the k fold cross validation technique as a more robust test of how the model would perform using untrained, independent data. For this I was able to obtain a root mean square error value of 2149 with a standard deviation of 83, which seems reasonably close to the best prediction using train/test validation. "
   ]
  },
  {
   "cell_type": "markdown",
   "metadata": {},
   "source": [
    "This project demonstrates how to use a basic machine learning workflow for numeric data:\n",
    "1. clean the data to extract continuous numeric data, remove extraneous columns, remove punctuation, convert data to float values, replace missing values, and normalize the data for analysis.\n",
    "2. Create a prediction model by:\n",
    "    a. selecting relevant features to use for predicting the target column.\n",
    "    b. use grid search to find the optimal hyperparameter value for the selected features.\n",
    "    c. evaluate the model's accuracy and repeat the process.\n",
    "\n",
    "After cleaning the data, I created a univariate model. I then updated the model by adding a hyperparameter value. Next I created a multivariate model in order to lower the error/better predict the target. I then optimized the model by tuning the hyperparameter (number of nearest neighbors). Fianlly, I used k fold cross validation as a more robust test of how the model would perform using independent, untrained data.\n"
   ]
  }
 ],
 "metadata": {
  "kernelspec": {
   "display_name": "Python 3",
   "language": "python",
   "name": "python3"
  },
  "language_info": {
   "codemirror_mode": {
    "name": "ipython",
    "version": 3
   },
   "file_extension": ".py",
   "mimetype": "text/x-python",
   "name": "python",
   "nbconvert_exporter": "python",
   "pygments_lexer": "ipython3",
   "version": "3.8.5"
  }
 },
 "nbformat": 4,
 "nbformat_minor": 2
}
